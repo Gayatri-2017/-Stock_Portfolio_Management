{
 "cells": [
  {
   "cell_type": "code",
   "execution_count": 1,
   "metadata": {},
   "outputs": [],
   "source": [
    "import pandas as pd\n",
    "import numpy as np\n",
    "import matplotlib.pyplot as plt\n",
    "import seaborn as sns\n",
    "%matplotlib inline\n",
    "plt.rcParams['figure.figsize'] = 7, 4\n",
    "plt.rcParams['axes.grid'] = True\n",
    "import os\n",
    "import sys"
   ]
  },
  {
   "cell_type": "code",
   "execution_count": 2,
   "metadata": {},
   "outputs": [],
   "source": [
    "#Method creates a dataframe containing labels of all quarters\n",
    "\n",
    "def create_label_df(label_df,path):\n",
    "    for id in range(1,8):\n",
    "        df=pd.read_csv(path+\"/\"+str(id)+\"_qt_result.csv\")\n",
    "        df.drop(columns=[\"Unnamed: 0\"],inplace=True)\n",
    "        label_df=pd.merge(label_df,df[['symbol','sector','label']],on=['symbol','sector'],\\\n",
    "                          how='outer',suffixes=(str(id), str(id+1)))        \n",
    "        label_df=label_df.dropna()\n",
    "    return(label_df)    \n",
    "        "
   ]
  },
  {
   "cell_type": "code",
   "execution_count": 3,
   "metadata": {},
   "outputs": [],
   "source": [
    "def cluster_change(label_df,qtr_len,num_clstr,cols,senti_label):\n",
    "       \n",
    "    change_lst=[]\n",
    "    for i in range(1,qtr_len):   \n",
    "        change=label_df.shape[0]-label_df[label_df.duplicated(subset=[cols[i-1],cols[i]],keep=False)].shape[0]\n",
    "        #print(change)    \n",
    "        change_lst.append(change)\n",
    "\n",
    "    change_df=pd.DataFrame(change_lst,columns=['change'])\n",
    "    change_df.index=['Qtr_1-2','Qtr_2-3','Qtr_3-4','Qtr_4-5','Qtr_5-6','Qtr_6-7','Qtr_7-8']\n",
    "    change_df.plot(kind='bar')\n",
    "    plt.xlabel('consecutive cluster change')\n",
    "    plt.ylabel('Number of companies')\n",
    "    plt.title(\"No. of companies that could not retain cluster membership with any company with change in quarters.\")\n",
    "    if(senti_label):\n",
    "        filename=\"change_in_membership_withsenti_cl\"+str(num_clstr)\n",
    "    else:\n",
    "        filename=\"change_in_membership_withoutsenti_cl\"+str(num_clstr)\n",
    "        \n",
    "    plt.savefig(filename)   "
   ]
  },
  {
   "cell_type": "code",
   "execution_count": 4,
   "metadata": {},
   "outputs": [],
   "source": [
    "def cluster_comb(label_df,col):\n",
    "    \n",
    "    cluster_movement_df=label_df[label_df.duplicated(subset=col,keep=False)].drop_duplicates(col)[col].reset_index(drop=True)\n",
    "    print(\" \\nTotal number of unique combinations for cluster movements in the data for all quarters=\\n\", cluster_movement_df.shape[0])\n",
    "    print(cluster_movement_df.head(5))"
   ]
  },
  {
   "cell_type": "code",
   "execution_count": 5,
   "metadata": {},
   "outputs": [],
   "source": [
    "def cluster_member(label_df,col,num_clstr,senti_label):\n",
    "    new_df=label_df[label_df.duplicated(subset=col,keep=False)].groupby(list(col)).agg({'symbol': ','.join,'sector':','.join}).reset_index()[['symbol','sector']]\n",
    "    print(\"\\nList of set of companies that were always together in a cluster for all quarters\")\n",
    "    if(senti_label):\n",
    "        filename=\"companies_clstr_membership_withsenti_cl\"+str(num_clstr)+\".csv\"\n",
    "    else:\n",
    "        filename=\"companies_clstr_membership_withoutsenti_cl\"+str(num_clstr)+\".csv\"\n",
    "    new_df.to_csv(filename)\n",
    "    print(new_df)"
   ]
  },
  {
   "cell_type": "markdown",
   "metadata": {},
   "source": [
    "## EDA-with 3 Clusters(with sentiment)"
   ]
  },
  {
   "cell_type": "code",
   "execution_count": 6,
   "metadata": {},
   "outputs": [
    {
     "name": "stdout",
     "output_type": "stream",
     "text": [
      " \n",
      "Total number of unique combinations for cluster movements in the data for all quarters=\n",
      " 23\n",
      "   label1  label2  label3  label4  label5  label6  label7  label8\n",
      "0       2       2       2       1     2.0       1     0.0     1.0\n",
      "1       0       0       2       1     2.0       0     2.0     1.0\n",
      "2       0       0       2       1     2.0       0     2.0     0.0\n",
      "3       1       1       0       1     0.0       0     2.0     1.0\n",
      "4       2       2       0       0     1.0       1     2.0     1.0\n",
      "\n",
      "List of set of companies that were always together in a cluster for all quarters\n",
      "             symbol                                         sector\n",
      "0           AJG,IFF                           Financials,Materials\n",
      "1          CMCSA,CL        Consumer Discretionary,Consumer Staples\n",
      "2           CAT,PPG                          Industrials,Materials\n",
      "3           AAL,CAH                        Industrials,Health Care\n",
      "4           CSX,ADP             Industrials,Information Technology\n",
      "5       DISCA,DISCK  Consumer Discretionary,Consumer Discretionary\n",
      "6           ADM,COP                        Consumer Staples,Energy\n",
      "7          BHGE,DVN                                  Energy,Energy\n",
      "8           XEC,EQT                                  Energy,Energy\n",
      "9           ADS,OXY                  Information Technology,Energy\n",
      "10       GOOGL,GOOG  Information Technology,Information Technology\n",
      "11         ALXN,HES                             Health Care,Energy\n",
      "12         ACN,ANSS  Information Technology,Information Technology\n",
      "13          ABT,AFL                         Health Care,Financials\n",
      "14          BIIB,CI                        Health Care,Health Care\n",
      "15  LNT,AEP,ETR,NEE        Utilities,Utilities,Utilities,Utilities\n",
      "16          CNP,IRM                          Utilities,Real Estate\n",
      "17      DTE,AIV,EQR              Utilities,Real Estate,Real Estate\n",
      "18          AVB,ESS                        Real Estate,Real Estate\n",
      "19             D,FE                            Utilities,Utilities\n",
      "20           CMS,ES                            Utilities,Utilities\n",
      "21          ALK,EIX                          Industrials,Utilities\n",
      "22           ALB,HP                               Materials,Energy\n"
     ]
    },
    {
     "data": {
      "image/png": "[encoded data removed]",
      "text/plain": [
       "<Figure size 432x288 with 1 Axes>"
      ]
     },
     "metadata": {
      "needs_background": "light"
     },
     "output_type": "display_data"
    }
   ],
   "source": [
    "#create label dataframe for cluster 3 results\"\n",
    "label_df_cl3=pd.DataFrame()\n",
    "current_dir=os.getcwd()\n",
    "path=os.path.join(current_dir, 'Results_with_sentiment/cluster_df_cl3')\n",
    "\n",
    "df=pd.read_csv(path+\"/1_qt_result.csv\")\n",
    "df=df.drop(columns=['Unnamed: 0'])\n",
    "label_df_cl3=df[['symbol','sector','label']]\n",
    "#label_df_cl3.rename(columns = {'label':'label_1'}, inplace = True)\n",
    "temp=label_df_cl3.copy()\n",
    "label_df_cl3=create_label_df(temp,path)        \n",
    "\n",
    "col=label_df_cl3.columns.difference(['symbol','sector'])\n",
    "col\n",
    "\n",
    "### Total number of unique combinations for cluster movements in the data for all quarters\n",
    "\n",
    "cluster_comb(label_df_cl3,col)\n",
    "\n",
    "###  List of set of companies that were always together in a cluster for all quarters \n",
    "senti_label=1\n",
    "cluster_member(label_df_cl3,col,3,senti_label)\n",
    "\n",
    "### No. of companies that could not retain cluster membership with any company with change in quarters.\n",
    "\n",
    "cols=list(col)\n",
    "cluster_change(label_df_cl3,8,3,cols,senti_label)  "
   ]
  },
  {
   "cell_type": "markdown",
   "metadata": {},
   "source": [
    "## EDA-with 3 Clusters without sentiment"
   ]
  },
  {
   "cell_type": "code",
   "execution_count": 7,
   "metadata": {},
   "outputs": [
    {
     "name": "stdout",
     "output_type": "stream",
     "text": [
      " \n",
      "Total number of unique combinations for cluster movements in the data for all quarters=\n",
      " 26\n",
      "   label1  label2  label3  label4  label5  label6  label7  label8\n",
      "0       2       2       0       2     0.0       1     0.0     1.0\n",
      "1       0       0       1       2     0.0       1     2.0     0.0\n",
      "2       0       0       0       2     0.0       0     2.0     1.0\n",
      "3       0       0       0       2     0.0       0     2.0     0.0\n",
      "4       1       1       1       2     1.0       0     2.0     1.0\n",
      "\n",
      "List of set of companies that were always together in a cluster for all quarters\n",
      "         symbol                                         sector\n",
      "0       CAT,PPG                          Industrials,Materials\n",
      "1       AAL,CAH                        Industrials,Health Care\n",
      "2      CMCSA,CL        Consumer Discretionary,Consumer Staples\n",
      "3       AJG,IFF                           Financials,Materials\n",
      "4       CCL,CXO                  Consumer Discretionary,Energy\n",
      "5    ALLE,BRK.B                         Industrials,Financials\n",
      "6      ALXN,HES                             Health Care,Energy\n",
      "7      ACN,ANSS  Information Technology,Information Technology\n",
      "8      APA,BHGE                                  Energy,Energy\n",
      "9       BAX,KIM                        Health Care,Real Estate\n",
      "10  DISCA,DISCK  Consumer Discretionary,Consumer Discretionary\n",
      "11      ADM,COP                        Consumer Staples,Energy\n",
      "12      CSX,ADP             Industrials,Information Technology\n",
      "13    AMZN,COST        Consumer Discretionary,Consumer Staples\n",
      "14      XEC,EQT                                  Energy,Energy\n",
      "15      ADS,OXY                  Information Technology,Energy\n",
      "16  DTE,AIV,EQR              Utilities,Real Estate,Real Estate\n",
      "17      AVB,ESS                        Real Estate,Real Estate\n",
      "18         D,FE                            Utilities,Utilities\n",
      "19       CMS,ES                            Utilities,Utilities\n",
      "20      ALK,EIX                          Industrials,Utilities\n",
      "21      ABT,AFL                         Health Care,Financials\n",
      "22      BIIB,CI                        Health Care,Health Care\n",
      "23       ED,DLR                          Utilities,Real Estate\n",
      "24  LNT,ETR,NEE                  Utilities,Utilities,Utilities\n",
      "25      CNP,IRM                          Utilities,Real Estate\n"
     ]
    },
    {
     "data": {
      "image/png": "[encoded data removed]",
      "text/plain": [
       "<Figure size 432x288 with 1 Axes>"
      ]
     },
     "metadata": {
      "needs_background": "light"
     },
     "output_type": "display_data"
    }
   ],
   "source": [
    "#create label dataframe for cluster 3 results\"\n",
    "label_df_cl3=pd.DataFrame()\n",
    "current_dir=os.getcwd()\n",
    "path=os.path.join(current_dir, 'Results_without_sentiment/cluster_df_cl3')\n",
    "\n",
    "df=pd.read_csv(path+\"/1_qt_result.csv\")\n",
    "df=df.drop(columns=['Unnamed: 0'])\n",
    "label_df_cl3=df[['symbol','sector','label']]\n",
    "#label_df_cl3.rename(columns = {'label':'label_1'}, inplace = True)\n",
    "temp=label_df_cl3.copy()\n",
    "label_df_cl3=create_label_df(temp,path)        \n",
    "\n",
    "cols=label_df_cl3.columns.difference(['symbol','sector'])\n",
    "cols\n",
    "\n",
    "### Total number of unique combinations for cluster movements in the data for all quarters\n",
    "\n",
    "cluster_comb(label_df_cl3,cols)\n",
    "\n",
    "###  List of set of companies that were always together in a cluster for all quarters \n",
    "\n",
    "senti_label=0\n",
    "cluster_member(label_df_cl3,cols,3,senti_label)\n",
    "\n",
    "### No. of companies that could not retain cluster membership with any company with change in quarters.\n",
    "\n",
    "cols_l=list(cols)\n",
    "cluster_change(label_df_cl3,8,3,cols_l,senti_label)  \n",
    "\n",
    "\n"
   ]
  },
  {
   "cell_type": "markdown",
   "metadata": {},
   "source": [
    "## EDA-K-Medoids with 4 Clusters  (with sentiment)"
   ]
  },
  {
   "cell_type": "code",
   "execution_count": 8,
   "metadata": {},
   "outputs": [
    {
     "name": "stdout",
     "output_type": "stream",
     "text": [
      " \n",
      "Total number of unique combinations for cluster movements in the data for all quarters=\n",
      " 9\n",
      "   label1  label2  label3  label4  label5  label6  label7  label8\n",
      "0       3       3       1       2     1.0       1     2.0     1.0\n",
      "1       1       1       3       2     2.0       3     3.0     2.0\n",
      "2       2       2       0       0     2.0       3     1.0     3.0\n",
      "3       0       0       0       3     1.0       1     2.0     1.0\n",
      "4       1       1       1       2     3.0       0     3.0     1.0\n",
      "\n",
      "List of set of companies that were always together in a cluster for all quarters\n",
      "        symbol                                         sector\n",
      "0      APH,AVY               Information Technology,Materials\n",
      "1      AEP,ETR                            Utilities,Utilities\n",
      "2      NEE,AMT                          Utilities,Real Estate\n",
      "3  DISCA,DISCK  Consumer Discretionary,Consumer Discretionary\n",
      "4      ADS,OXY                  Information Technology,Energy\n",
      "5   GOOGL,GOOG  Information Technology,Information Technology\n",
      "6      AEE,EQR                          Utilities,Real Estate\n",
      "7      AWK,CMS                            Utilities,Utilities\n",
      "8      DOV,ETN                        Industrials,Industrials\n"
     ]
    },
    {
     "data": {
      "image/png": "[encoded data removed]",
      "text/plain": [
       "<Figure size 432x288 with 1 Axes>"
      ]
     },
     "metadata": {
      "needs_background": "light"
     },
     "output_type": "display_data"
    }
   ],
   "source": [
    "\n",
    "label_df_cl4=pd.DataFrame()\n",
    "current_dir=os.getcwd()\n",
    "path=os.path.join(current_dir, 'Results_with_sentiment/cluster_df_cl4')\n",
    "\n",
    "df=pd.read_csv(path+\"/1_qt_result.csv\")\n",
    "df=df.drop(columns=['Unnamed: 0'])\n",
    "label_df_cl4=df[['symbol','sector','label']]\n",
    "#label_df_cl4.rename(columns = {'label':'label_1'}, inplace = True)\n",
    "temp=label_df_cl4.copy()\n",
    "label_df_cl4=create_label_df(temp,path)        \n",
    "\n",
    "col=label_df_cl4.columns.difference(['symbol','sector'])\n",
    "\n",
    "\n",
    "### Total number of unique combinations for cluster movements in the data for all quarters\n",
    "\n",
    "cluster_comb(label_df_cl4,col)\n",
    "\n",
    "### List of set of companies that were always together in a cluster for all quarters\n",
    "senti_label=1\n",
    "cluster_member(label_df_cl4,col,4,senti_label)\n",
    "\n",
    "cols=list(col)\n",
    "cluster_change(label_df_cl4,8,4,cols,senti_label)"
   ]
  },
  {
   "cell_type": "markdown",
   "metadata": {},
   "source": [
    "## EDA-with 4 Clusters  (without sentiment)"
   ]
  },
  {
   "cell_type": "code",
   "execution_count": 9,
   "metadata": {},
   "outputs": [
    {
     "name": "stdout",
     "output_type": "stream",
     "text": [
      " \n",
      "Total number of unique combinations for cluster movements in the data for all quarters=\n",
      " 6\n",
      "   label1  label2  label3  label4  label5  label6  label7  label8\n",
      "0       3       3       0       0     1.0       1     0.0     0.0\n",
      "1       3       3       3       0     2.0       2     2.0     2.0\n",
      "2       1       1       0       3     2.0       2     0.0     3.0\n",
      "3       3       3       2       0     3.0       1     2.0     0.0\n",
      "4       2       2       3       1     0.0       1     1.0     3.0\n",
      "\n",
      "List of set of companies that were always together in a cluster for all quarters\n",
      "        symbol                                         sector\n",
      "0   GOOGL,GOOG  Information Technology,Information Technology\n",
      "1      AWK,CMS                            Utilities,Utilities\n",
      "2  LNT,AEP,ETR                  Utilities,Utilities,Utilities\n",
      "3     ACN,ANSS  Information Technology,Information Technology\n",
      "4  DISCA,DISCK  Consumer Discretionary,Consumer Discretionary\n",
      "5      ADS,OXY                  Information Technology,Energy\n"
     ]
    },
    {
     "data": {
      "image/png": "[encoded data removed]",
      "text/plain": [
       "<Figure size 432x288 with 1 Axes>"
      ]
     },
     "metadata": {
      "needs_background": "light"
     },
     "output_type": "display_data"
    }
   ],
   "source": [
    "\n",
    "label_df_cl4=pd.DataFrame()\n",
    "current_dir=os.getcwd()\n",
    "path=os.path.join(current_dir, 'Results_without_sentiment/cluster_df_cl4')\n",
    "\n",
    "df=pd.read_csv(path+\"/1_qt_result.csv\")\n",
    "df=df.drop(columns=['Unnamed: 0'])\n",
    "label_df_cl4=df[['symbol','sector','label']]\n",
    "#label_df_cl4.rename(columns = {'label':'label_1'}, inplace = True)\n",
    "temp=label_df_cl4.copy()\n",
    "label_df_cl4=create_label_df(temp,path)        \n",
    "\n",
    "cols=label_df_cl4.columns.difference(['symbol','sector'])\n",
    "\n",
    "\n",
    "### Total number of unique combinations for cluster movements in the data for all quarters\n",
    "\n",
    "cluster_comb(label_df_cl4,cols)\n",
    "\n",
    "### List of set of companies that were always together in a cluster for all quarters\n",
    "senti_label=0\n",
    "cluster_member(label_df_cl4,cols,4,senti_label)\n",
    "\n",
    "cols_l=list(col)\n",
    "cluster_change(label_df_cl4,8,4,cols_l,senti_label)"
   ]
  },
  {
   "cell_type": "code",
   "execution_count": null,
   "metadata": {},
   "outputs": [],
   "source": []
  }
 ],
 "metadata": {
  "kernelspec": {
   "display_name": "Python 3",
   "language": "python",
   "name": "python3"
  },
  "language_info": {
   "codemirror_mode": {
    "name": "ipython",
    "version": 3
   },
   "file_extension": ".py",
   "mimetype": "text/x-python",
   "name": "python",
   "nbconvert_exporter": "python",
   "pygments_lexer": "ipython3",
   "version": "3.7.3"
  }
 },
 "nbformat": 4,
 "nbformat_minor": 2
}
