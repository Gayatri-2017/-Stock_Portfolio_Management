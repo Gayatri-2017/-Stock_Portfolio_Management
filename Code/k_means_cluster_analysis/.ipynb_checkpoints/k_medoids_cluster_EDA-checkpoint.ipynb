{
 "cells": [
  {
   "cell_type": "code",
   "execution_count": 1,
   "metadata": {},
   "outputs": [],
   "source": [
    "import pandas as pd\n",
    "import numpy as np\n",
    "import matplotlib.pyplot as plt\n",
    "import seaborn as sns\n",
    "%matplotlib inline\n",
    "plt.rcParams['figure.figsize'] = 7, 4\n",
    "plt.rcParams['axes.grid'] = True\n",
    "import os\n",
    "import sys"
   ]
  },
  {
   "cell_type": "code",
   "execution_count": 2,
   "metadata": {},
   "outputs": [],
   "source": [
    "#Method creates a dataframe containing labels of all quarters\n",
    "\n",
    "def create_label_df(label_df,path):\n",
    "    for id in range(1,8):\n",
    "        df=pd.read_csv(path+\"/\"+str(id)+\"_qt_result.csv\")\n",
    "        df.drop(columns=[\"Unnamed: 0\"],inplace=True)\n",
    "        label_df=pd.merge(label_df,df[['symbol','sector','label']],on=['symbol','sector'],\\\n",
    "                          how='outer',suffixes=(str(id), str(id+1)))        \n",
    "        label_df=label_df.dropna()\n",
    "    return(label_df)    \n",
    "        "
   ]
  },
  {
   "cell_type": "code",
   "execution_count": 3,
   "metadata": {},
   "outputs": [],
   "source": [
    "def cluster_change(label_df,qtr_len,num_clstr):\n",
    "       \n",
    "    change_lst=[]\n",
    "    for i in range(1,qtr_len):   \n",
    "        change=label_df.shape[0]-label_df[label_df.duplicated(subset=[cols[i-1],cols[i]],keep=False)].shape[0]\n",
    "        #print(change)    \n",
    "        change_lst.append(change)\n",
    "\n",
    "    change_df=pd.DataFrame(change_lst,columns=['change'])\n",
    "    change_df.index=['Qtr_1-2','Qtr_2-3','Qtr_3-4','Qtr_4-5','Qtr_5-6','Qtr_6-7','Qtr_7-8']\n",
    "    change_df.plot(kind='bar')\n",
    "    plt.xlabel('consecutive cluster change')\n",
    "    plt.ylabel('Number of companies')\n",
    "    plt.title(\"No. of companies that could not retain cluster membership with any company with change in quarters.\")\n",
    "    plt.savefig(\"change_in_membership_cl\"+str(num_clstr))   "
   ]
  },
  {
   "cell_type": "code",
   "execution_count": 4,
   "metadata": {},
   "outputs": [],
   "source": [
    "def cluster_comb(label_df,col):\n",
    "    \n",
    "    cluster_movement_df=label_df[label_df.duplicated(subset=col,keep=False)].drop_duplicates(col)[col].reset_index(drop=True)\n",
    "    print(\" Total number of unique combinations for cluster movements in the data for all quarters=\", cluster_movement_df.shape[0])\n",
    "    cluster_movement_df.head(5)"
   ]
  },
  {
   "cell_type": "code",
   "execution_count": 5,
   "metadata": {},
   "outputs": [],
   "source": [
    "def cluster_member(label_df,col,num_clstr):\n",
    "    new_df=label_df[label_df.duplicated(subset=col,keep=False)].groupby(list(col)).agg({'symbol': ','.join,'sector':','.join}).reset_index()[['symbol','sector']]\n",
    "    new_df.to_csv(\"companies_cluster_membership_\"+str(num_clstr)+\".csv\")\n",
    "    print(new_df)"
   ]
  },
  {
   "cell_type": "markdown",
   "metadata": {},
   "source": [
    "## EDA-K-Medoids with 3 Clusters(with sentiment)"
   ]
  },
  {
   "cell_type": "code",
   "execution_count": 6,
   "metadata": {},
   "outputs": [],
   "source": [
    "#create label dataframe for cluster 3 results\"\n",
    "label_df_cl3=pd.DataFrame()\n",
    "current_dir=os.getcwd()\n",
    "path=os.path.join(current_dir, 'Results_with_sentiment/cluster_df_cl3')\n",
    "\n",
    "df=pd.read_csv(path+\"/1_qt_result.csv\")\n",
    "df=df.drop(columns=['Unnamed: 0'])\n",
    "label_df_cl3=df[['symbol','sector','label']]\n",
    "#label_df_cl3.rename(columns = {'label':'label_1'}, inplace = True)\n",
    "temp=label_df_cl3.copy()\n",
    "label_df_cl3=create_label_df(temp,path)        "
   ]
  },
  {
   "cell_type": "code",
   "execution_count": 7,
   "metadata": {},
   "outputs": [
    {
     "data": {
      "text/plain": [
       "Index(['label1', 'label2', 'label3', 'label4', 'label5', 'label6', 'label7',\n",
       "       'label8'],\n",
       "      dtype='object')"
      ]
     },
     "execution_count": 7,
     "metadata": {},
     "output_type": "execute_result"
    }
   ],
   "source": [
    "col=label_df_cl3.columns.difference(['symbol','sector'])\n",
    "col"
   ]
  },
  {
   "cell_type": "markdown",
   "metadata": {},
   "source": [
    "### Total number of unique combinations for cluster movements in the data for all quarters"
   ]
  },
  {
   "cell_type": "code",
   "execution_count": 8,
   "metadata": {},
   "outputs": [
    {
     "name": "stdout",
     "output_type": "stream",
     "text": [
      " Total number of unique combinations for cluster movements in the data for all quarters= 50\n"
     ]
    }
   ],
   "source": [
    "cluster_comb(label_df_cl3,col)"
   ]
  },
  {
   "cell_type": "markdown",
   "metadata": {},
   "source": [
    "###  List of set of companies that were always together in a cluster for all quarters "
   ]
  },
  {
   "cell_type": "code",
   "execution_count": 9,
   "metadata": {},
   "outputs": [
    {
     "name": "stdout",
     "output_type": "stream",
     "text": [
      "                                               symbol  \\\n",
      "0                                             KMX,AIZ   \n",
      "1                                         ADS,OXY,EQT   \n",
      "2                                         XEC,EOG,NOV   \n",
      "3                                              ATVI,K   \n",
      "4                                    CTAS,EFX,PLD,KMI   \n",
      "5                                        ACN,ANSS,FMC   \n",
      "6                                     APA,CVX,DVN,XOM   \n",
      "7                                        BBY,HST,BHGE   \n",
      "8                                        ADI,CDNS,DRI   \n",
      "9               AEE,AWK,CMS,FE,NI,MLM,DRE,EXR,HCP,KIM   \n",
      "10                                           AVGO,AES   \n",
      "11                                    EXC,DLR,FRT,IRM   \n",
      "12                                        DISCA,DISCK   \n",
      "13                                             CF,SHW   \n",
      "14                                        CNC,COP,MRO   \n",
      "15                                           BIIB,ADM   \n",
      "16                                            ADP,HES   \n",
      "17                                           ADBE,AMD   \n",
      "18                                           CSX,ALXN   \n",
      "19                                            AAP,HRL   \n",
      "20                                            ABT,AVB   \n",
      "21                              CERN,BWA,PCG,BLK,MNST   \n",
      "22                                            AIG,STZ   \n",
      "23                                            AAL,AMG   \n",
      "24                                 EMN,IP,NUE,KHC,HAL   \n",
      "25                                    BHF,ALB,LYB,MAC   \n",
      "26                                          DISH,COTY   \n",
      "27                                           DHI,EQIX   \n",
      "28                                            AMP,BAC   \n",
      "29                                            PKG,CAG   \n",
      "30                                   DE,D,EIX,CBOE,CB   \n",
      "31                                            NEM,PPG   \n",
      "32  AKAM,CMCSA,DLTR,LNT,AEP,ED,DTE,ETR,ES,NEE,AMT,...   \n",
      "33                                          AMAT,CBRE   \n",
      "34                                    CNP,ARE,AIV,BXP   \n",
      "35                                       ARNC,AGN,CVS   \n",
      "36                                        CAT,CCL,CXO   \n",
      "37                                       CHRW,CAH,MPC   \n",
      "38                                            ALL,DFS   \n",
      "39                                            AME,ETN   \n",
      "40                                         ADSK,MO,HP   \n",
      "41                                       EMR,CELG,APH   \n",
      "42                                            HRB,IFF   \n",
      "43                                  ALK,DAL,DG,KO,KMB   \n",
      "44                                             MMM,CI   \n",
      "45                                            NRG,WBA   \n",
      "46                                            AFL,APD   \n",
      "47                                       CINF,BLL,ECL   \n",
      "48                                           CHTR,AON   \n",
      "49                               GOOGL,GOOG,AMZN,BKNG   \n",
      "\n",
      "                                               sector  \n",
      "0                   Consumer Discretionary,Financials  \n",
      "1                Information Technology,Energy,Energy  \n",
      "2                                Energy,Energy,Energy  \n",
      "3             Information Technology,Consumer Staples  \n",
      "4          Industrials,Industrials,Real Estate,Energy  \n",
      "5   Information Technology,Information Technology,...  \n",
      "6                         Energy,Energy,Energy,Energy  \n",
      "7           Consumer Discretionary,Real Estate,Energy  \n",
      "8   Information Technology,Information Technology,...  \n",
      "9   Utilities,Utilities,Utilities,Utilities,Utilit...  \n",
      "10                   Information Technology,Utilities  \n",
      "11      Utilities,Real Estate,Real Estate,Real Estate  \n",
      "12      Consumer Discretionary,Consumer Discretionary  \n",
      "13                                Materials,Materials  \n",
      "14                          Health Care,Energy,Energy  \n",
      "15                       Health Care,Consumer Staples  \n",
      "16                      Information Technology,Energy  \n",
      "17      Information Technology,Information Technology  \n",
      "18                            Industrials,Health Care  \n",
      "19            Consumer Discretionary,Consumer Staples  \n",
      "20                            Health Care,Real Estate  \n",
      "21  Health Care,Consumer Discretionary,Utilities,F...  \n",
      "22                        Financials,Consumer Staples  \n",
      "23                             Industrials,Financials  \n",
      "24  Materials,Materials,Materials,Consumer Staples...  \n",
      "25         Financials,Materials,Materials,Real Estate  \n",
      "26            Consumer Discretionary,Consumer Staples  \n",
      "27                 Consumer Discretionary,Real Estate  \n",
      "28                              Financials,Financials  \n",
      "29                         Materials,Consumer Staples  \n",
      "30  Industrials,Utilities,Utilities,Financials,Fin...  \n",
      "31                                Materials,Materials  \n",
      "32  Information Technology,Consumer Discretionary,...  \n",
      "33                 Information Technology,Real Estate  \n",
      "34      Utilities,Real Estate,Real Estate,Real Estate  \n",
      "35           Industrials,Health Care,Consumer Staples  \n",
      "36          Industrials,Consumer Discretionary,Energy  \n",
      "37                     Industrials,Health Care,Energy  \n",
      "38                              Financials,Financials  \n",
      "39                            Industrials,Industrials  \n",
      "40     Information Technology,Consumer Staples,Energy  \n",
      "41     Industrials,Health Care,Information Technology  \n",
      "42                               Financials,Materials  \n",
      "43  Industrials,Industrials,Consumer Discretionary...  \n",
      "44                            Industrials,Health Care  \n",
      "45                         Utilities,Consumer Staples  \n",
      "46                               Financials,Materials  \n",
      "47                     Financials,Materials,Materials  \n",
      "48                  Consumer Discretionary,Financials  \n",
      "49  Information Technology,Information Technology,...  \n"
     ]
    }
   ],
   "source": [
    "cluster_member(label_df_cl3,col,3)"
   ]
  },
  {
   "cell_type": "markdown",
   "metadata": {},
   "source": [
    "### No. of companies that could not retain cluster membership with any company with change in quarters."
   ]
  },
  {
   "cell_type": "code",
   "execution_count": 10,
   "metadata": {},
   "outputs": [
    {
     "data": {
      "image/png": "[encoded data removed]",
      "text/plain": [
       "<Figure size 432x288 with 1 Axes>"
      ]
     },
     "metadata": {
      "needs_background": "light"
     },
     "output_type": "display_data"
    }
   ],
   "source": [
    "cols=list(col)\n",
    "cluster_change(label_df_cl3,8,3)  "
   ]
  },
  {
   "cell_type": "markdown",
   "metadata": {},
   "source": [
    "## EDA-K-Medoids with 4 Clusters  (with sentiment)"
   ]
  },
  {
   "cell_type": "code",
   "execution_count": 11,
   "metadata": {},
   "outputs": [],
   "source": [
    "\n",
    "label_df_cl4=pd.DataFrame()\n",
    "current_dir=os.getcwd()\n",
    "path=os.path.join(current_dir, 'Results_with_sentiment/cluster_df_cl4')\n",
    "\n",
    "df=pd.read_csv(path+\"/1_qt_result.csv\")\n",
    "df=df.drop(columns=['Unnamed: 0'])\n",
    "label_df_cl4=df[['symbol','sector','label']]\n",
    "#label_df_cl4.rename(columns = {'label':'label_1'}, inplace = True)\n",
    "temp=label_df_cl4.copy()\n",
    "label_df_cl4=create_label_df(temp,path)        "
   ]
  },
  {
   "cell_type": "code",
   "execution_count": 12,
   "metadata": {},
   "outputs": [],
   "source": [
    "col=label_df_cl4.columns.difference(['symbol','sector'])\n"
   ]
  },
  {
   "cell_type": "markdown",
   "metadata": {},
   "source": [
    "### Total number of unique combinations for cluster movements in the data for all quarters"
   ]
  },
  {
   "cell_type": "code",
   "execution_count": 13,
   "metadata": {},
   "outputs": [
    {
     "name": "stdout",
     "output_type": "stream",
     "text": [
      " Total number of unique combinations for cluster movements in the data for all quarters= 36\n"
     ]
    }
   ],
   "source": [
    "cluster_comb(label_df_cl4,col)"
   ]
  },
  {
   "cell_type": "markdown",
   "metadata": {},
   "source": [
    "### List of set of companies that were always together in a cluster for all quarters"
   ]
  },
  {
   "cell_type": "code",
   "execution_count": 14,
   "metadata": {},
   "outputs": [
    {
     "name": "stdout",
     "output_type": "stream",
     "text": [
      "                  symbol                                             sector\n",
      "0                ETN,EMR                            Industrials,Industrials\n",
      "1                HRB,IFF                               Financials,Materials\n",
      "2          CMCSA,DTE,ESS       Consumer Discretionary,Utilities,Real Estate\n",
      "3            ES,CINF,KMB              Utilities,Financials,Consumer Staples\n",
      "4                ALK,DAL                            Industrials,Industrials\n",
      "5           CHRW,ABC,CAH                Industrials,Health Care,Health Care\n",
      "6        CAT,CMI,APH,PPG  Industrials,Industrials,Information Technology...\n",
      "7                 EIX,BA                              Utilities,Industrials\n",
      "8          ALLE,CERN,AON                 Industrials,Health Care,Financials\n",
      "9                EMN,KHC                         Materials,Consumer Staples\n",
      "10               FCX,HAL                                   Materials,Energy\n",
      "11               AMP,COF                              Financials,Financials\n",
      "12               AEP,AMT                              Utilities,Real Estate\n",
      "13          LNT,ED,D,DUK            Utilities,Utilities,Utilities,Utilities\n",
      "14               ETR,NEE                                Utilities,Utilities\n",
      "15            BXP,CL,SJM      Real Estate,Consumer Staples,Consumer Staples\n",
      "16               ARE,GIS                       Real Estate,Consumer Staples\n",
      "17               DHI,CPB            Consumer Discretionary,Consumer Staples\n",
      "18                IP,NUE                                Materials,Materials\n",
      "19              BLK,MNST                        Financials,Consumer Staples\n",
      "20               APA,XOM                                      Energy,Energy\n",
      "21           AIV,AVB,EQR                Real Estate,Real Estate,Real Estate\n",
      "22               ABT,CHD                       Health Care,Consumer Staples\n",
      "23             BIIB,CTXS                 Health Care,Information Technology\n",
      "24               CSX,ADP                 Industrials,Information Technology\n",
      "25              PLD,COST                       Real Estate,Consumer Staples\n",
      "26              BSX,ADBE                 Health Care,Information Technology\n",
      "27               ADS,OXY                      Information Technology,Energy\n",
      "28            AEE,CMS,FE                      Utilities,Utilities,Utilities\n",
      "29        NI,DLR,EXR,HCP      Utilities,Real Estate,Real Estate,Real Estate\n",
      "30               DRI,KMI                      Consumer Discretionary,Energy\n",
      "31               DRE,KIM                            Real Estate,Real Estate\n",
      "32        CTAS,AKAM,EQIX     Industrials,Information Technology,Real Estate\n",
      "33               ADI,CVX                      Information Technology,Energy\n",
      "34               AIZ,MLM                               Financials,Materials\n",
      "35  GOOGL,GOOG,AMZN,BKNG  Information Technology,Information Technology,...\n"
     ]
    }
   ],
   "source": [
    "cluster_member(label_df_cl4,col,4)"
   ]
  },
  {
   "cell_type": "code",
   "execution_count": 15,
   "metadata": {},
   "outputs": [
    {
     "data": {
      "image/png": "[encoded data removed]",
      "text/plain": [
       "<Figure size 432x288 with 1 Axes>"
      ]
     },
     "metadata": {
      "needs_background": "light"
     },
     "output_type": "display_data"
    }
   ],
   "source": [
    "cols=list(col)\n",
    "cluster_change(label_df_cl4,8,4)"
   ]
  },
  {
   "cell_type": "code",
   "execution_count": null,
   "metadata": {},
   "outputs": [],
   "source": []
  },
  {
   "cell_type": "code",
   "execution_count": null,
   "metadata": {},
   "outputs": [],
   "source": []
  },
  {
   "cell_type": "code",
   "execution_count": null,
   "metadata": {},
   "outputs": [],
   "source": []
  },
  {
   "cell_type": "code",
   "execution_count": null,
   "metadata": {},
   "outputs": [],
   "source": []
  },
  {
   "cell_type": "code",
   "execution_count": null,
   "metadata": {},
   "outputs": [],
   "source": []
  },
  {
   "cell_type": "code",
   "execution_count": null,
   "metadata": {},
   "outputs": [],
   "source": []
  }
 ],
 "metadata": {
  "kernelspec": {
   "display_name": "Python 3",
   "language": "python",
   "name": "python3"
  },
  "language_info": {
   "codemirror_mode": {
    "name": "ipython",
    "version": 3
   },
   "file_extension": ".py",
   "mimetype": "text/x-python",
   "name": "python",
   "nbconvert_exporter": "python",
   "pygments_lexer": "ipython3",
   "version": "3.7.3"
  }
 },
 "nbformat": 4,
 "nbformat_minor": 2
}
